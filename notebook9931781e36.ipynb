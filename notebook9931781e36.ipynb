{
 "cells": [
  {
   "cell_type": "code",
   "execution_count": 1,
   "id": "4adc4b7e",
   "metadata": {
    "execution": {
     "iopub.execute_input": "2023-05-09T13:36:46.107628Z",
     "iopub.status.busy": "2023-05-09T13:36:46.106999Z",
     "iopub.status.idle": "2023-05-09T13:37:48.191797Z",
     "shell.execute_reply": "2023-05-09T13:37:48.190315Z"
    },
    "id": "_ZEDZdSt9m7y",
    "papermill": {
     "duration": 62.09513,
     "end_time": "2023-05-09T13:37:48.194619",
     "exception": false,
     "start_time": "2023-05-09T13:36:46.099489",
     "status": "completed"
    },
    "tags": []
   },
   "outputs": [
    {
     "name": "stdout",
     "output_type": "stream",
     "text": [
      "Collecting tensorflow==2.3.0\r\n",
      "  Downloading tensorflow-2.3.0-cp37-cp37m-manylinux2010_x86_64.whl (320.4 MB)\r\n",
      "\u001b[2K     \u001b[90m━━━━━━━━━━━━━━━━━━━━━━━━━━━━━━━━━━━━━━━\u001b[0m \u001b[32m320.4/320.4 MB\u001b[0m \u001b[31m3.8 MB/s\u001b[0m eta \u001b[36m0:00:00\u001b[0m\r\n",
      "\u001b[?25hRequirement already satisfied: six>=1.12.0 in /opt/conda/lib/python3.7/site-packages (from tensorflow==2.3.0) (1.15.0)\r\n",
      "Requirement already satisfied: astunparse==1.6.3 in /opt/conda/lib/python3.7/site-packages (from tensorflow==2.3.0) (1.6.3)\r\n",
      "Requirement already satisfied: tensorboard<3,>=2.3.0 in /opt/conda/lib/python3.7/site-packages (from tensorflow==2.3.0) (2.6.0)\r\n",
      "Requirement already satisfied: grpcio>=1.8.6 in /opt/conda/lib/python3.7/site-packages (from tensorflow==2.3.0) (1.51.1)\r\n",
      "Collecting tensorflow-estimator<2.4.0,>=2.3.0\r\n",
      "  Downloading tensorflow_estimator-2.3.0-py2.py3-none-any.whl (459 kB)\r\n",
      "\u001b[2K     \u001b[90m━━━━━━━━━━━━━━━━━━━━━━━━━━━━━━━━━━━━━━\u001b[0m \u001b[32m459.0/459.0 kB\u001b[0m \u001b[31m20.9 MB/s\u001b[0m eta \u001b[36m0:00:00\u001b[0m\r\n",
      "\u001b[?25hRequirement already satisfied: wrapt>=1.11.1 in /opt/conda/lib/python3.7/site-packages (from tensorflow==2.3.0) (1.12.1)\r\n",
      "Collecting gast==0.3.3\r\n",
      "  Downloading gast-0.3.3-py2.py3-none-any.whl (9.7 kB)\r\n",
      "Requirement already satisfied: termcolor>=1.1.0 in /opt/conda/lib/python3.7/site-packages (from tensorflow==2.3.0) (1.1.0)\r\n",
      "Requirement already satisfied: keras-preprocessing<1.2,>=1.1.1 in /opt/conda/lib/python3.7/site-packages (from tensorflow==2.3.0) (1.1.2)\r\n",
      "Collecting scipy==1.4.1\r\n",
      "  Downloading scipy-1.4.1-cp37-cp37m-manylinux1_x86_64.whl (26.1 MB)\r\n",
      "\u001b[2K     \u001b[90m━━━━━━━━━━━━━━━━━━━━━━━━━━━━━━━━━━━━━━━━\u001b[0m \u001b[32m26.1/26.1 MB\u001b[0m \u001b[31m48.3 MB/s\u001b[0m eta \u001b[36m0:00:00\u001b[0m\r\n",
      "\u001b[?25hCollecting numpy<1.19.0,>=1.16.0\r\n",
      "  Downloading numpy-1.18.5-cp37-cp37m-manylinux1_x86_64.whl (20.1 MB)\r\n",
      "\u001b[2K     \u001b[90m━━━━━━━━━━━━━━━━━━━━━━━━━━━━━━━━━━━━━━━━\u001b[0m \u001b[32m20.1/20.1 MB\u001b[0m \u001b[31m59.2 MB/s\u001b[0m eta \u001b[36m0:00:00\u001b[0m\r\n",
      "\u001b[?25hRequirement already satisfied: protobuf>=3.9.2 in /opt/conda/lib/python3.7/site-packages (from tensorflow==2.3.0) (3.20.3)\r\n",
      "Requirement already satisfied: wheel>=0.26 in /opt/conda/lib/python3.7/site-packages (from tensorflow==2.3.0) (0.37.1)\r\n",
      "Collecting h5py<2.11.0,>=2.10.0\r\n",
      "  Downloading h5py-2.10.0-cp37-cp37m-manylinux1_x86_64.whl (2.9 MB)\r\n",
      "\u001b[2K     \u001b[90m━━━━━━━━━━━━━━━━━━━━━━━━━━━━━━━━━━━━━━━━\u001b[0m \u001b[32m2.9/2.9 MB\u001b[0m \u001b[31m65.2 MB/s\u001b[0m eta \u001b[36m0:00:00\u001b[0m\r\n",
      "\u001b[?25hRequirement already satisfied: google-pasta>=0.1.8 in /opt/conda/lib/python3.7/site-packages (from tensorflow==2.3.0) (0.2.0)\r\n",
      "Requirement already satisfied: absl-py>=0.7.0 in /opt/conda/lib/python3.7/site-packages (from tensorflow==2.3.0) (0.15.0)\r\n",
      "Requirement already satisfied: opt-einsum>=2.3.2 in /opt/conda/lib/python3.7/site-packages (from tensorflow==2.3.0) (3.3.0)\r\n",
      "Requirement already satisfied: requests<3,>=2.21.0 in /opt/conda/lib/python3.7/site-packages (from tensorboard<3,>=2.3.0->tensorflow==2.3.0) (2.28.1)\r\n",
      "Requirement already satisfied: setuptools>=41.0.0 in /opt/conda/lib/python3.7/site-packages (from tensorboard<3,>=2.3.0->tensorflow==2.3.0) (59.8.0)\r\n",
      "Requirement already satisfied: tensorboard-plugin-wit>=1.6.0 in /opt/conda/lib/python3.7/site-packages (from tensorboard<3,>=2.3.0->tensorflow==2.3.0) (1.8.1)\r\n",
      "Requirement already satisfied: werkzeug>=0.11.15 in /opt/conda/lib/python3.7/site-packages (from tensorboard<3,>=2.3.0->tensorflow==2.3.0) (2.2.2)\r\n",
      "Requirement already satisfied: google-auth-oauthlib<0.5,>=0.4.1 in /opt/conda/lib/python3.7/site-packages (from tensorboard<3,>=2.3.0->tensorflow==2.3.0) (0.4.6)\r\n",
      "Requirement already satisfied: markdown>=2.6.8 in /opt/conda/lib/python3.7/site-packages (from tensorboard<3,>=2.3.0->tensorflow==2.3.0) (3.3.7)\r\n",
      "Requirement already satisfied: tensorboard-data-server<0.7.0,>=0.6.0 in /opt/conda/lib/python3.7/site-packages (from tensorboard<3,>=2.3.0->tensorflow==2.3.0) (0.6.1)\r\n",
      "Requirement already satisfied: google-auth<2,>=1.6.3 in /opt/conda/lib/python3.7/site-packages (from tensorboard<3,>=2.3.0->tensorflow==2.3.0) (1.35.0)\r\n",
      "Requirement already satisfied: cachetools<5.0,>=2.0.0 in /opt/conda/lib/python3.7/site-packages (from google-auth<2,>=1.6.3->tensorboard<3,>=2.3.0->tensorflow==2.3.0) (4.2.4)\r\n",
      "Requirement already satisfied: pyasn1-modules>=0.2.1 in /opt/conda/lib/python3.7/site-packages (from google-auth<2,>=1.6.3->tensorboard<3,>=2.3.0->tensorflow==2.3.0) (0.2.7)\r\n",
      "Requirement already satisfied: rsa<5,>=3.1.4 in /opt/conda/lib/python3.7/site-packages (from google-auth<2,>=1.6.3->tensorboard<3,>=2.3.0->tensorflow==2.3.0) (4.8)\r\n",
      "Requirement already satisfied: requests-oauthlib>=0.7.0 in /opt/conda/lib/python3.7/site-packages (from google-auth-oauthlib<0.5,>=0.4.1->tensorboard<3,>=2.3.0->tensorflow==2.3.0) (1.3.1)\r\n",
      "Requirement already satisfied: importlib-metadata>=4.4 in /opt/conda/lib/python3.7/site-packages (from markdown>=2.6.8->tensorboard<3,>=2.3.0->tensorflow==2.3.0) (4.13.0)\r\n",
      "Requirement already satisfied: certifi>=2017.4.17 in /opt/conda/lib/python3.7/site-packages (from requests<3,>=2.21.0->tensorboard<3,>=2.3.0->tensorflow==2.3.0) (2022.12.7)\r\n",
      "Requirement already satisfied: urllib3<1.27,>=1.21.1 in /opt/conda/lib/python3.7/site-packages (from requests<3,>=2.21.0->tensorboard<3,>=2.3.0->tensorflow==2.3.0) (1.26.13)\r\n",
      "Requirement already satisfied: idna<4,>=2.5 in /opt/conda/lib/python3.7/site-packages (from requests<3,>=2.21.0->tensorboard<3,>=2.3.0->tensorflow==2.3.0) (3.3)\r\n",
      "Requirement already satisfied: charset-normalizer<3,>=2 in /opt/conda/lib/python3.7/site-packages (from requests<3,>=2.21.0->tensorboard<3,>=2.3.0->tensorflow==2.3.0) (2.1.0)\r\n",
      "Requirement already satisfied: MarkupSafe>=2.1.1 in /opt/conda/lib/python3.7/site-packages (from werkzeug>=0.11.15->tensorboard<3,>=2.3.0->tensorflow==2.3.0) (2.1.1)\r\n",
      "Requirement already satisfied: typing-extensions>=3.6.4 in /opt/conda/lib/python3.7/site-packages (from importlib-metadata>=4.4->markdown>=2.6.8->tensorboard<3,>=2.3.0->tensorflow==2.3.0) (4.1.1)\r\n",
      "Requirement already satisfied: zipp>=0.5 in /opt/conda/lib/python3.7/site-packages (from importlib-metadata>=4.4->markdown>=2.6.8->tensorboard<3,>=2.3.0->tensorflow==2.3.0) (3.8.0)\r\n",
      "Requirement already satisfied: pyasn1<0.5.0,>=0.4.6 in /opt/conda/lib/python3.7/site-packages (from pyasn1-modules>=0.2.1->google-auth<2,>=1.6.3->tensorboard<3,>=2.3.0->tensorflow==2.3.0) (0.4.8)\r\n",
      "Requirement already satisfied: oauthlib>=3.0.0 in /opt/conda/lib/python3.7/site-packages (from requests-oauthlib>=0.7.0->google-auth-oauthlib<0.5,>=0.4.1->tensorboard<3,>=2.3.0->tensorflow==2.3.0) (3.2.0)\r\n",
      "Installing collected packages: tensorflow-estimator, numpy, gast, scipy, h5py, tensorflow\r\n",
      "  Attempting uninstall: tensorflow-estimator\r\n",
      "    Found existing installation: tensorflow-estimator 2.6.0\r\n",
      "    Uninstalling tensorflow-estimator-2.6.0:\r\n",
      "      Successfully uninstalled tensorflow-estimator-2.6.0\r\n",
      "  Attempting uninstall: numpy\r\n",
      "    Found existing installation: numpy 1.21.6\r\n",
      "    Uninstalling numpy-1.21.6:\r\n",
      "      Successfully uninstalled numpy-1.21.6\r\n",
      "  Attempting uninstall: gast\r\n",
      "    Found existing installation: gast 0.4.0\r\n",
      "    Uninstalling gast-0.4.0:\r\n",
      "      Successfully uninstalled gast-0.4.0\r\n",
      "  Attempting uninstall: scipy\r\n",
      "    Found existing installation: scipy 1.7.3\r\n",
      "    Uninstalling scipy-1.7.3:\r\n",
      "      Successfully uninstalled scipy-1.7.3\r\n",
      "  Attempting uninstall: h5py\r\n",
      "    Found existing installation: h5py 3.7.0\r\n",
      "    Uninstalling h5py-3.7.0:\r\n",
      "      Successfully uninstalled h5py-3.7.0\r\n",
      "  Attempting uninstall: tensorflow\r\n",
      "    Found existing installation: tensorflow 2.6.4\r\n",
      "    Uninstalling tensorflow-2.6.4:\r\n",
      "      Successfully uninstalled tensorflow-2.6.4\r\n",
      "\u001b[31mERROR: pip's dependency resolver does not currently take into account all the packages that are installed. This behaviour is the source of the following dependency conflicts.\r\n",
      "tensorflow-io 0.21.0 requires tensorflow-io-gcs-filesystem==0.21.0, which is not installed.\r\n",
      "dask-cudf 21.10.1 requires cupy-cuda114, which is not installed.\r\n",
      "beatrix-jupyterlab 3.1.7 requires google-cloud-bigquery-storage, which is not installed.\r\n",
      "xarray-einstats 0.2.2 requires numpy>=1.21, but you have numpy 1.18.5 which is incompatible.\r\n",
      "wavio 0.0.7 requires numpy>=1.19.0, but you have numpy 1.18.5 which is incompatible.\r\n",
      "tfx-bsl 1.9.0 requires google-api-python-client<2,>=1.7.11, but you have google-api-python-client 2.52.0 which is incompatible.\r\n",
      "tfx-bsl 1.9.0 requires tensorflow!=2.0.*,!=2.1.*,!=2.2.*,!=2.3.*,!=2.4.*,!=2.5.*,!=2.6.*,!=2.7.*,!=2.8.*,<3,>=1.15.5, but you have tensorflow 2.3.0 which is incompatible.\r\n",
      "tensorflow-transform 1.9.0 requires tensorflow!=2.0.*,!=2.1.*,!=2.2.*,!=2.3.*,!=2.4.*,!=2.5.*,!=2.6.*,!=2.7.*,!=2.8.*,<2.10,>=1.15.5, but you have tensorflow 2.3.0 which is incompatible.\r\n",
      "tensorflow-serving-api 2.9.0 requires tensorflow<3,>=2.9.0, but you have tensorflow 2.3.0 which is incompatible.\r\n",
      "tensorflow-io 0.21.0 requires tensorflow<2.7.0,>=2.6.0, but you have tensorflow 2.3.0 which is incompatible.\r\n",
      "tensorflow-decision-forests 0.2.0 requires tensorflow~=2.6, but you have tensorflow 2.3.0 which is incompatible.\r\n",
      "tensorboardx 2.5.1 requires protobuf<=3.20.1,>=3.8.0, but you have protobuf 3.20.3 which is incompatible.\r\n",
      "tables 3.7.0 requires numpy>=1.19.0, but you have numpy 1.18.5 which is incompatible.\r\n",
      "stumpy 1.11.1 requires scipy>=1.5, but you have scipy 1.4.1 which is incompatible.\r\n",
      "sklearn-pandas 2.2.0 requires scipy>=1.5.1, but you have scipy 1.4.1 which is incompatible.\r\n",
      "quantecon 0.6.0 requires scipy>=1.5.0, but you have scipy 1.4.1 which is incompatible.\r\n",
      "pymc3 3.11.5 requires scipy<1.8.0,>=1.7.3, but you have scipy 1.4.1 which is incompatible.\r\n",
      "plotnine 0.8.0 requires numpy>=1.19.0, but you have numpy 1.18.5 which is incompatible.\r\n",
      "plotnine 0.8.0 requires scipy>=1.5.0, but you have scipy 1.4.1 which is incompatible.\r\n",
      "phik 0.12.2 requires scipy>=1.5.2, but you have scipy 1.4.1 which is incompatible.\r\n",
      "pdpbox 0.2.1 requires matplotlib==3.1.1, but you have matplotlib 3.5.3 which is incompatible.\r\n",
      "pandas-profiling 3.1.0 requires markupsafe~=2.0.1, but you have markupsafe 2.1.1 which is incompatible.\r\n",
      "osmnx 1.1.1 requires numpy>=1.19, but you have numpy 1.18.5 which is incompatible.\r\n",
      "ortools 9.5.2237 requires protobuf>=4.21.5, but you have protobuf 3.20.3 which is incompatible.\r\n",
      "optuna 3.0.5 requires scipy<1.9.0,>=1.7.0, but you have scipy 1.4.1 which is incompatible.\r\n",
      "nnabla 1.32.0 requires numpy>=1.20.0, but you have numpy 1.18.5 which is incompatible.\r\n",
      "nnabla 1.32.0 requires protobuf<=3.19.4; platform_system != \"Windows\", but you have protobuf 3.20.3 which is incompatible.\r\n",
      "nilearn 0.9.2 requires scipy>=1.5, but you have scipy 1.4.1 which is incompatible.\r\n",
      "kaggle-environments 1.11.2 requires numpy>=1.19.5, but you have numpy 1.18.5 which is incompatible.\r\n",
      "jaxlib 0.3.25+cuda11.cudnn805 requires numpy>=1.20, but you have numpy 1.18.5 which is incompatible.\r\n",
      "jaxlib 0.3.25+cuda11.cudnn805 requires scipy>=1.5, but you have scipy 1.4.1 which is incompatible.\r\n",
      "jax 0.3.25 requires numpy>=1.20, but you have numpy 1.18.5 which is incompatible.\r\n",
      "jax 0.3.25 requires scipy>=1.5, but you have scipy 1.4.1 which is incompatible.\r\n",
      "imbalanced-learn 0.10.1 requires joblib>=1.1.1, but you have joblib 1.0.1 which is incompatible.\r\n",
      "featuretools 1.11.1 requires numpy>=1.21.0, but you have numpy 1.18.5 which is incompatible.\r\n",
      "dask-cudf 21.10.1 requires dask==2021.09.1, but you have dask 2022.2.0 which is incompatible.\r\n",
      "dask-cudf 21.10.1 requires distributed==2021.09.1, but you have distributed 2022.2.0 which is incompatible.\r\n",
      "cupy-cuda110 11.4.0 requires numpy<1.26,>=1.20, but you have numpy 1.18.5 which is incompatible.\r\n",
      "cmdstanpy 1.0.8 requires numpy>=1.21, but you have numpy 1.18.5 which is incompatible.\r\n",
      "apache-beam 2.40.0 requires dill<0.3.2,>=0.3.1.1, but you have dill 0.3.6 which is incompatible.\r\n",
      "allennlp 2.10.1 requires h5py>=3.6.0, but you have h5py 2.10.0 which is incompatible.\r\n",
      "allennlp 2.10.1 requires numpy>=1.21.4, but you have numpy 1.18.5 which is incompatible.\r\n",
      "allennlp 2.10.1 requires scipy>=1.7.3, but you have scipy 1.4.1 which is incompatible.\u001b[0m\u001b[31m\r\n",
      "\u001b[0mSuccessfully installed gast-0.3.3 h5py-2.10.0 numpy-1.18.5 scipy-1.4.1 tensorflow-2.3.0 tensorflow-estimator-2.3.0\r\n",
      "\u001b[33mWARNING: Running pip as the 'root' user can result in broken permissions and conflicting behaviour with the system package manager. It is recommended to use a virtual environment instead: https://pip.pypa.io/warnings/venv\u001b[0m\u001b[33m\r\n",
      "\u001b[0m"
     ]
    }
   ],
   "source": [
    "!pip install tensorflow==2.3.0"
   ]
  },
  {
   "cell_type": "code",
   "execution_count": 2,
   "id": "57d1ba38",
   "metadata": {
    "execution": {
     "iopub.execute_input": "2023-05-09T13:37:48.221489Z",
     "iopub.status.busy": "2023-05-09T13:37:48.221126Z",
     "iopub.status.idle": "2023-05-09T13:37:49.211094Z",
     "shell.execute_reply": "2023-05-09T13:37:49.209847Z"
    },
    "papermill": {
     "duration": 1.006292,
     "end_time": "2023-05-09T13:37:49.213729",
     "exception": false,
     "start_time": "2023-05-09T13:37:48.207437",
     "status": "completed"
    },
    "tags": []
   },
   "outputs": [
    {
     "name": "stdout",
     "output_type": "stream",
     "text": [
      "Python 3.7.12\r\n"
     ]
    }
   ],
   "source": [
    "!python --version"
   ]
  },
  {
   "cell_type": "code",
   "execution_count": 3,
   "id": "b4a7d41a",
   "metadata": {
    "execution": {
     "iopub.execute_input": "2023-05-09T13:37:49.240128Z",
     "iopub.status.busy": "2023-05-09T13:37:49.239758Z",
     "iopub.status.idle": "2023-05-09T13:37:51.582027Z",
     "shell.execute_reply": "2023-05-09T13:37:51.580430Z"
    },
    "id": "JYq4dpbFgZor",
    "outputId": "2a5961d6-cc30-416c-8ba0-c92a06e23f0a",
    "papermill": {
     "duration": 2.357315,
     "end_time": "2023-05-09T13:37:51.584346",
     "exception": false,
     "start_time": "2023-05-09T13:37:49.227031",
     "status": "completed"
    },
    "tags": []
   },
   "outputs": [
    {
     "name": "stdout",
     "output_type": "stream",
     "text": [
      "2.3.0\n"
     ]
    }
   ],
   "source": [
    "import tensorflow as tf\n",
    "print(tf.__version__)"
   ]
  },
  {
   "cell_type": "code",
   "execution_count": 4,
   "id": "bbf23157",
   "metadata": {
    "execution": {
     "iopub.execute_input": "2023-05-09T13:37:51.609498Z",
     "iopub.status.busy": "2023-05-09T13:37:51.608554Z",
     "iopub.status.idle": "2023-05-09T13:41:17.041360Z",
     "shell.execute_reply": "2023-05-09T13:41:17.039990Z"
    },
    "papermill": {
     "duration": 205.448133,
     "end_time": "2023-05-09T13:41:17.044412",
     "exception": false,
     "start_time": "2023-05-09T13:37:51.596279",
     "status": "completed"
    },
    "tags": []
   },
   "outputs": [
    {
     "name": "stdout",
     "output_type": "stream",
     "text": [
      "Collecting package metadata (current_repodata.json): - \b\b\\ \b\b| \b\b/ \b\b- \b\b\\ \b\b| \b\b/ \b\b- \b\b\\ \b\b| \b\b/ \b\b- \b\b\\ \b\b| \b\b/ \b\b- \b\b\\ \b\b| \b\b/ \b\b- \b\b\\ \b\b| \b\b/ \b\b- \b\b\\ \b\b| \b\b/ \b\b- \b\b\\ \b\b| \b\b/ \b\b- \b\b\\ \b\b| \b\b/ \b\b- \b\b\\ \b\b| \b\b/ \b\b- \b\b\\ \b\b| \b\b/ \b\b- \b\b\\ \b\b| \b\b/ \b\b- \b\b\\ \b\b| \b\b/ \b\b- \b\b\\ \b\b| \b\b/ \b\b- \b\b\\ \b\b| \b\b/ \b\b- \b\b\\ \b\b| \b\b/ \b\b- \b\b\\ \b\b| \b\b/ \b\b- \b\b\\ \b\b| \b\b/ \b\b- \b\b\\ \b\b| \b\b/ \b\b- \b\b\\ \b\b| \b\b/ \b\b- \b\b\\ \b\b| \b\b/ \b\b- \b\b\\ \b\b| \b\b/ \b\b- \b\b\\ \b\b| \b\b/ \b\b- \b\b\\ \b\b| \b\b/ \b\b- \b\b\\ \b\b| \b\b/ \b\b- \b\b\\ \b\b| \b\b/ \b\b- \b\b\\ \b\b| \b\b/ \b\b- \b\b\\ \b\b| \b\b/ \b\b- \b\b\\ \b\b| \b\b/ \b\b- \b\b\\ \b\b| \b\b/ \b\b- \b\b\\ \b\b| \b\b/ \b\b- \b\b\\ \b\b| \b\b/ \b\b- \b\b\\ \b\b| \b\b/ \b\b- \b\b\\ \b\b| \b\b/ \b\b- \b\b\\ \b\b| \b\b/ \b\b- \b\b\\ \b\b| \b\b/ \b\b- \b\b\\ \b\b| \b\b/ \b\b- \b\b\\ \b\b| \b\b/ \b\b- \b\b\\ \b\b| \b\b/ \b\b- \b\b\\ \b\b| \b\b/ \b\b- \b\b\\ \b\b| \b\b/ \b\b- \b\b\\ \b\b| \b\b/ \b\b- \b\b\\ \b\b| \b\b/ \b\b- \b\b\\ \b\b| \b\b/ \b\b- \b\b\\ \b\b| \b\b/ \b\b- \b\b\\ \b\b| \b\b/ \b\b- \b\b\\ \b\b| \b\b/ \b\b- \b\b\\ \b\b| \b\b/ \b\b- \b\b\\ \b\b| \b\b/ \b\b- \b\b\\ \b\b| \b\b/ \b\b- \b\b\\ \b\b| \b\b/ \b\b- \b\b\\ \b\b| \b\b/ \b\b- \b\b\\ \b\b| \b\b/ \b\b- \b\b\\ \b\b| \b\b/ \b\b- \b\b\\ \b\b| \b\b/ \b\b- \b\b\\ \b\b| \b\b/ \b\b- \b\b\\ \b\b| \b\b/ \b\b- \b\b\\ \b\b| \b\b/ \b\b- \b\b\\ \b\b| \b\b/ \b\b- \b\b\\ \b\b| \b\b/ \b\b- \b\b\\ \b\b| \b\b/ \b\b- \b\b\\ \b\b| \b\b/ \b\b- \b\b\\ \b\bdone\r\n",
      "Solving environment: / \b\b- \b\b\\ \b\b| \b\b/ \b\b- \b\b\\ \b\b| \b\b/ \b\b- \b\b\\ \b\b| \b\b/ \b\b- \b\b\\ \b\b| \b\b/ \b\b- \b\b\\ \b\b| \b\b/ \b\b- \b\b\\ \b\b| \b\b/ \b\b- \b\b\\ \b\b| \b\b/ \b\b- \b\b\\ \b\b| \b\b/ \b\b- \b\b\\ \b\b| \b\b/ \b\b- \b\b\\ \b\b| \b\b/ \b\b- \b\b\\ \b\b| \b\b/ \b\b- \b\b\\ \b\b| \b\b/ \b\b- \b\b\\ \b\b| \b\b/ \b\b- \b\b\\ \b\b| \b\b/ \b\b- \b\b\\ \b\b| \b\b/ \b\b- \b\b\\ \b\b| \b\b/ \b\b- \b\b\\ \b\b| \b\b/ \b\b- \b\b\\ \b\b| \b\b/ \b\b- \b\b\\ \b\b| \b\b/ \b\b- \b\b\\ \b\b| \b\b/ \b\b- \b\b\\ \b\b| \b\b/ \b\b- \b\b\\ \b\b| \b\b/ \b\b- \b\b\\ \b\b| \b\b/ \b\b- \b\b\\ \b\b| \b\b/ \b\b- \b\b\\ \b\b| \b\b/ \b\b- \b\b\\ \b\b| \b\b/ \b\b- \b\b\\ \b\b| \b\b/ \b\b- \b\b\\ \b\b| \b\b/ \b\b- \b\b\\ \b\b| \b\b/ \b\b- \b\b\\ \b\b| \b\b/ \b\b- \b\b\\ \b\b| \b\b/ \b\b- \b\b\\ \b\b| \b\b/ \b\b- \b\b\\ \b\b| \b\b/ \b\b- \b\b\\ \b\b| \b\b/ \b\b- \b\b\\ \b\b| \b\b/ \b\b- \b\b\\ \b\b| \b\b/ \b\b- \b\b\\ \b\b| \b\b/ \b\b- \b\b\\ \b\b| \b\b/ \b\b- \b\b\\ \b\b| \b\b/ \b\b- \b\b\\ \b\b| \b\b/ \b\b- \b\b\\ \b\b| \b\b/ \b\b- \b\b\\ \b\b| \b\b/ \b\b- \b\b\\ \b\b| \b\b/ \b\b- \b\b\\ \b\b| \b\b/ \b\b- \b\b\\ \b\b| \b\b/ \b\b- \b\b\\ \b\b| \b\b/ \b\b- \b\b\\ \b\b| \b\b/ \b\b- \b\b\\ \b\b| \b\b/ \b\b- \b\b\\ \b\b| \b\b/ \b\b- \b\b\\ \b\b| \b\b/ \b\b- \b\b\\ \b\b| \b\b/ \b\b- \b\b\\ \b\b| \b\b/ \b\b- \b\b\\ \b\b| \b\b/ \b\b- \b\b\\ \b\b| \b\b/ \b\b- \b\b\\ \b\b| \b\b/ \b\b- \b\b\\ \b\b| \b\b/ \b\b- \b\b\\ \b\b| \b\b/ \b\b- \b\b\\ \b\b| \b\b/ \b\b- \b\b\\ \b\b| \b\b/ \b\b- \b\b\\ \b\b| \b\b/ \b\b- \b\b\\ \b\b| \b\b/ \b\b- \b\b\\ \b\b| \b\b/ \b\b- \b\b\\ \b\b| \b\b/ \b\b- \b\b\\ \b\b| \b\b/ \b\b- \b\b\\ \b\b| \b\b/ \b\b- \b\b\\ \b\b| \b\b/ \b\b- \b\b\\ \b\b| \b\b/ \b\b- \b\b\\ \b\b| \b\b/ \b\b- \b\b\\ \b\b| \b\b/ \b\b- \b\b\\ \b\b| \b\b/ \b\b- \b\b\\ \b\b| \b\b/ \b\b- \b\b\\ \b\b| \b\b/ \b\b- \b\b\\ \b\b| \b\b/ \b\b- \b\b\\ \b\b| \b\b/ \b\b- \b\b\\ \b\b| \b\b/ \b\b- \b\b\\ \b\b| \b\b/ \b\b- \b\b\\ \b\b| \b\b/ \b\b- \b\b\\ \b\b| \b\b/ \b\b- \b\b\\ \b\b| \b\b/ \b\b- \b\b\\ \b\b| \b\b/ \b\b- \b\b\\ \b\b| \b\b/ \b\b- \b\b\\ \b\b| \b\b/ \b\b- \b\b\\ \b\b| \b\b/ \b\b- \b\b\\ \b\b| \b\b/ \b\b- \b\b\\ \b\b| \b\b/ \b\b- \b\b\\ \b\b| \b\b/ \b\b- \b\b\\ \b\b| \b\b/ \b\b- \b\b\\ \b\b| \b\b/ \b\b- \b\b\\ \b\b| \b\b/ \b\b- \b\b\\ \b\b| \b\b/ \b\b- \b\b\\ \b\b| \b\b/ \b\b- \b\b\\ \b\b| \b\b/ \b\b- \b\b\\ \b\b| \b\b/ \b\b- \b\b\\ \b\b| \b\b/ \b\b- \b\b\\ \b\b| \b\b/ \b\b- \b\b\\ \b\b| \b\b/ \b\b- \b\b\\ \b\b| \b\b/ \b\b- \b\b\\ \b\b| \b\b/ \b\b- \b\b\\ \b\b| \b\b/ \b\b- \b\b\\ \b\b| \b\b/ \b\b- \b\b\\ \b\b| \b\b/ \b\b- \b\b\\ \b\b| \b\b/ \b\b- \b\b\\ \b\b| \b\b/ \b\b- \b\b\\ \b\b| \b\b/ \b\b- \b\b\\ \b\b| \b\b/ \b\b- \b\b\\ \b\b| \b\b/ \b\b- \b\b\\ \b\b| \b\b/ \b\b- \b\b\\ \b\b| \b\b/ \b\b- \b\b\\ \b\b| \b\b/ \b\b- \b\b\\ \b\b| \b\b/ \b\b- \b\b\\ \b\b| \b\b/ \b\b- \b\b\\ \b\b| \b\b/ \b\b- \b\b\\ \b\b| \b\b/ \b\b- \b\b\\ \b\b| \b\b/ \b\b- \b\b\\ \b\b| \b\b/ \b\b- \b\b\\ \b\b| \b\b/ \b\b- \b\b\\ \b\b| \b\b/ \b\b- \b\b\\ \b\b| \b\b/ \b\b- \b\b\\ \b\b| \b\b/ \b\b- \b\b\\ \b\b| \b\b/ \b\b- \b\b\\ \b\b| \b\b/ \b\b- \b\b\\ \b\b| \b\b/ \b\b- \b\b\\ \b\b| \b\b/ \b\b- \b\b\\ \b\b| \b\b/ \b\b- \b\b\\ \b\b| \b\b/ \b\b- \b\b\\ \b\b| \b\b/ \b\b- \b\b\\ \b\b| \b\b/ \b\b- \b\b\\ \b\b| \b\b/ \b\b- \b\b\\ \b\b| \b\b/ \b\b- \b\b\\ \b\b| \b\b/ \b\b- \b\b\\ \b\b| \b\b/ \b\b- \b\b\\ \b\b| \b\b/ \b\b- \b\b\\ \b\b| \b\b/ \b\b- \b\b\\ \b\b| \b\b/ \b\b- \b\b\\ \b\b| \b\b/ \b\b- \b\b\\ \b\b| \b\b/ \b\b- \b\b\\ \b\b| \b\b/ \b\b- \b\b\\ \b\b| \b\b/ \b\b- \b\b\\ \b\b| \b\b/ \b\b- \b\b\\ \b\b| \b\b/ \b\b- \b\b\\ \b\b| \b\b/ \b\b- \b\b\\ \b\b| \b\b/ \b\b- \b\b\\ \b\b| \b\b/ \b\b- \b\b\\ \b\b| \b\b/ \b\b- \b\b\\ \b\b| \b\b/ \b\b- \b\b\\ \b\b| \b\b/ \b\b- \b\b\\ \b\b| \b\b/ \b\b- \b\b\\ \b\b| \b\b/ \b\b- \b\b\\ \b\b| \b\b/ \b\b- \b\b\\ \b\b| \b\b/ \b\b- \b\b\\ \b\b| \b\b/ \b\b- \b\b\\ \b\b| \b\b/ \b\b- \b\b\\ \b\b| \b\b/ \b\b- \b\b\\ \b\b| \b\b/ \b\b- \b\b\\ \b\b| \b\b/ \b\b- \b\b\\ \b\b| \b\b/ \b\b- \b\b\\ \b\b| \b\b/ \b\b- \b\b\\ \b\b| \b\b/ \b\b- \b\b\\ \b\b| \b\b/ \b\b- \b\b\\ \b\b| \b\b/ \b\b- \b\b\\ \b\b| \b\b/ \b\b- \b\b\\ \b\b| \b\b/ \b\b- \b\b\\ \b\b| \b\b/ \b\b- \b\b\\ \b\b| \b\b/ \b\b- \b\b\\ \b\b| \b\b/ \b\b- \b\b\\ \b\b| \b\b/ \b\b- \b\b\\ \b\b| \b\b/ \b\b- \b\b\\ \b\b| \b\b/ \b\b- \b\b\\ \b\b| \b\b/ \b\b- \b\b\\ \b\b| \b\b/ \b\b- \b\b\\ \b\b| \b\b/ \b\b- \b\b\\ \b\b| \b\b/ \b\b- \b\b\\ \b\b| \b\b/ \b\b- \b\b\\ \b\b| \b\b/ \b\b- \b\b\\ \b\b| \b\b/ \b\b- \b\b\\ \b\b| \b\b/ \b\b- \b\b\\ \b\b| \b\b/ \b\b- \b\b\\ \b\b| \b\b/ \b\b- \b\b\\ \b\b| \b\b/ \b\b- \b\b\\ \b\b| \b\b/ \b\b- \b\b\\ \b\b| \b\b/ \b\b- \b\b\\ \b\b| \b\b/ \b\b- \b\b\\ \b\b| \b\b/ \b\b- \b\b\\ \b\b| \b\b/ \b\b- \b\b\\ \b\b| \b\b/ \b\b- \b\b\\ \b\b| \b\b/ \b\b- \b\b\\ \b\b| \b\b/ \b\b- \b\b\\ \b\b| \b\b/ \b\b- \b\b\\ \b\b| \b\b/ \b\b- \b\b\\ \b\b| \b\b/ \b\b- \b\b\\ \b\b| \b\b/ \b\b- \b\b\\ \b\b| \b\b/ \b\b- \b\b\\ \b\b| \b\b/ \b\b- \b\b\\ \b\b| \b\b/ \b\b- \b\b\\ \b\b| \b\b/ \b\b- \b\b\\ \b\b| \b\b/ \b\b- \b\b\\ \b\b| \b\b/ \b\b- \b\b\\ \b\b| \b\b/ \b\b- \b\b\\ \b\b| \b\b/ \b\b- \b\b\\ \b\b| \b\b/ \b\b- \b\b\\ \b\b| \b\b/ \b\b- \b\b\\ \b\b| \b\b/ \b\b- \b\b\\ \b\b| \b\b/ \b\b- \b\b\\ \b\b| \b\b/ \b\b- \b\b\\ \b\b| \b\b/ \b\b- \b\b\\ \b\b| \b\b/ \b\b- \b\b\\ \b\b| \b\b/ \b\b- \b\b\\ \b\b| \b\b/ \b\b- \b\b\\ \b\b| \b\b/ \b\b- \b\b\\ \b\b| \b\b/ \b\b- \b\b\\ \b\b| \b\b/ \b\b- \b\b\\ \b\b| \b\b/ \b\b- \b\b\\ \b\b| \b\b/ \b\b- \b\b\\ \b\b| \b\b/ \b\b- \b\b\\ \b\b| \b\b/ \b\b- \b\b\\ \b\b| \b\b/ \b\b- \b\b\\ \b\b| \b\b/ \b\b- \b\b\\ \b\b| \b\b/ \b\b- \b\b\\ \b\b| \b\b/ \b\b- \b\b\\ \b\b| \b\b/ \b\b- \b\b\\ \b\b| \b\b/ \b\b- \b\b\\ \b\b| \b\b/ \b\b- \b\b\\ \b\b| \b\b/ \b\b- \b\b\\ \b\b| \b\b/ \b\b- \b\b\\ \b\b| \b\b/ \b\b- \b\b\\ \b\b| \b\b/ \b\b- \b\b\\ \b\b| \b\b/ \b\b- \b\b\\ \b\b| \b\b/ \b\b- \b\b\\ \b\b| \b\b/ \b\b- \b\b\\ \b\b| \b\b/ \b\b- \b\b\\ \b\b| \b\b/ \b\b- \b\b\\ \b\b| \b\b/ \b\b- \b\b\\ \b\b| \b\b/ \b\b- \b\b\\ \b\b| \b\b/ \b\b- \b\b\\ \b\b| \b\b/ \b\b- \b\b\\ \b\b| \b\b/ \b\b- \b\b\\ \b\b| \b\b/ \b\b- \b\b\\ \b\b| \b\b/ \b\b- \b\b\\ \b\b| \b\b/ \b\b- \b\b\\ \b\b| \b\b/ \b\b- \b\b\\ \b\b| \b\b/ \b\b- \b\b\\ \b\b| \b\b/ \b\b- \b\b\\ \b\b| \b\b/ \b\b- \b\b\\ \b\b| \b\b/ \b\b- \b\b\\ \b\b| \b\b/ \b\b- \b\b\\ \b\b| \b\b/ \b\b- \b\b\\ \b\b| \b\b/ \b\b- \b\b\\ \b\b| \b\b/ \b\b- \b\b\\ \b\b| \b\b/ \b\b- \b\b\\ \b\b| \b\b/ \b\b- \b\b\\ \b\b| \b\b/ \b\b- \b\b\\ \b\b| \b\b/ \b\b- \b\b\\ \b\b| \b\b/ \b\b- \b\b\\ \b\b| \b\b/ \b\b- \b\b\\ \b\b| \b\b/ \b\b- \b\b\\ \b\b| \b\b/ \b\b- \b\b\\ \b\b| \b\b/ \b\b- \b\b\\ \b\b| \b\b/ \b\b- \b\b\\ \b\b| \b\b/ \b\b- \b\b\\ \b\b| \b\b/ \b\b- \b\b\\ \b\b| \b\b/ \b\b- \b\b\\ \b\b| \b\b/ \b\b- \b\b\\ \b\b| \b\b/ \b\b- \b\b\\ \b\b| \b\b/ \b\b- \b\b\\ \b\b| \b\b/ \b\b- \b\b\\ \b\b| \b\b/ \b\b- \b\b\\ \b\b| \b\b/ \b\b- \b\b\\ \b\b| \b\b/ \b\b- \b\b\\ \b\b| \b\b/ \b\b- \b\b\\ \b\b| \b\b/ \b\b- \b\b\\ \b\b| \b\b/ \b\b- \b\b\\ \b\b| \b\b/ \b\b- \b\b\\ \b\b| \b\b/ \b\b- \b\b\\ \b\b| \b\b/ \b\b- \b\b\\ \b\b| \b\b/ \b\b- \b\b\\ \b\b| \b\b/ \b\b- \b\b\\ \b\b| \b\b/ \b\b- \b\b\\ \b\b| \b\b/ \b\b- \b\b\\ \b\b| \b\b/ \b\b- \b\b\\ \b\b| \b\b/ \b\b- \b\b\\ \b\b| \b\b/ \b\b- \b\b\\ \b\b| \b\b/ \b\b- \b\b\\ \b\b| \b\b/ \b\b- \b\b\\ \b\b| \b\b/ \b\bdone\r\n",
      "\r\n",
      "\r\n",
      "==> WARNING: A newer version of conda exists. <==\r\n",
      "  current version: 22.9.0\r\n",
      "  latest version: 23.3.1\r\n",
      "\r\n",
      "Please update conda by running\r\n",
      "\r\n",
      "    $ conda update -n base -c conda-forge conda\r\n",
      "\r\n",
      "\r\n",
      "\r\n",
      "## Package Plan ##\r\n",
      "\r\n",
      "  environment location: /opt/conda\r\n",
      "\r\n",
      "  added / updated specs:\r\n",
      "    - gdown\r\n",
      "\r\n",
      "\r\n",
      "The following packages will be downloaded:\r\n",
      "\r\n",
      "    package                    |            build\r\n",
      "    ---------------------------|-----------------\r\n",
      "    ca-certificates-2023.5.7   |       hbcca054_0         145 KB  conda-forge\r\n",
      "    certifi-2023.5.7           |     pyhd8ed1ab_0         149 KB  conda-forge\r\n",
      "    faiss-proc-1.0.0           |             cuda          18 KB  conda-forge\r\n",
      "    filelock-3.12.0            |     pyhd8ed1ab_0          14 KB  conda-forge\r\n",
      "    gdown-4.7.1                |     pyhd8ed1ab_0          19 KB  conda-forge\r\n",
      "    openssl-1.1.1t             |       h0b41bf4_0         1.9 MB  conda-forge\r\n",
      "    ------------------------------------------------------------\r\n",
      "                                           Total:         2.2 MB\r\n",
      "\r\n",
      "The following NEW packages will be INSTALLED:\r\n",
      "\r\n",
      "  filelock           conda-forge/noarch::filelock-3.12.0-pyhd8ed1ab_0 None\r\n",
      "  gdown              conda-forge/noarch::gdown-4.7.1-pyhd8ed1ab_0 None\r\n",
      "\r\n",
      "The following packages will be UPDATED:\r\n",
      "\r\n",
      "  ca-certificates                      2022.12.7-ha878542_0 --> 2023.5.7-hbcca054_0 None\r\n",
      "  certifi                            2022.12.7-pyhd8ed1ab_0 --> 2023.5.7-pyhd8ed1ab_0 None\r\n",
      "  openssl                                 1.1.1s-h0b41bf4_1 --> 1.1.1t-h0b41bf4_0 None\r\n",
      "\r\n",
      "The following packages will be SUPERSEDED by a higher-priority channel:\r\n",
      "\r\n",
      "  faiss-proc                                       rapidsai --> conda-forge None\r\n",
      "\r\n",
      "\r\n",
      "\r\n",
      "Downloading and Extracting Packages\r\n",
      "filelock-3.12.0      | 14 KB     | ##################################### | 100% \r\n",
      "ca-certificates-2023 | 145 KB    | ##################################### | 100% \r\n",
      "openssl-1.1.1t       | 1.9 MB    | ##################################### | 100% \r\n",
      "faiss-proc-1.0.0     | 18 KB     | ##################################### | 100% \r\n",
      "gdown-4.7.1          | 19 KB     | ##################################### | 100% \r\n",
      "certifi-2023.5.7     | 149 KB    | ##################################### | 100% \r\n",
      "Preparing transaction: \\ \b\bdone\r\n",
      "Verifying transaction: / \b\b- \b\bdone\r\n",
      "Executing transaction: | \b\b/ \b\b- \b\b\\ \b\b| \b\b/ \b\b- \b\b\\ \b\b| \b\b/ \b\b- \b\b\\ \b\b| \b\b/ \b\b- \b\b\\ \b\b| \b\b/ \b\b- \b\b\\ \b\b| \b\b/ \b\bdone\r\n",
      "Retrieving notices: ...working... done\r\n"
     ]
    }
   ],
   "source": [
    "! conda install -y gdown"
   ]
  },
  {
   "cell_type": "code",
   "execution_count": 5,
   "id": "76ee210d",
   "metadata": {
    "execution": {
     "iopub.execute_input": "2023-05-09T13:41:17.209886Z",
     "iopub.status.busy": "2023-05-09T13:41:17.209486Z",
     "iopub.status.idle": "2023-05-09T13:42:48.041363Z",
     "shell.execute_reply": "2023-05-09T13:42:48.039885Z"
    },
    "papermill": {
     "duration": 90.930375,
     "end_time": "2023-05-09T13:42:48.056857",
     "exception": false,
     "start_time": "2023-05-09T13:41:17.126482",
     "status": "completed"
    },
    "tags": []
   },
   "outputs": [
    {
     "name": "stdout",
     "output_type": "stream",
     "text": [
      "/opt/conda/lib/python3.7/site-packages/gdown/cli.py:130: FutureWarning: Option `--id` was deprecated in version 4.3.1 and will be removed in 5.0. You don't need to pass it anymore to use a file ID.\r\n",
      "  category=FutureWarning,\r\n",
      "Downloading...\r\n",
      "From (uriginal): https://drive.google.com/uc?id=105A0KCAXDV69rlsy_WcB-xFb0qC0_nGr\r\n",
      "From (redirected): https://drive.google.com/uc?id=105A0KCAXDV69rlsy_WcB-xFb0qC0_nGr&confirm=t&uuid=80917c28-1360-4dc4-99be-be3e6c0a0f24\r\n",
      "To: /kaggle/working/train_set.zip\r\n",
      "100%|██████████████████████████████████████| 4.82G/4.82G [01:28<00:00, 54.3MB/s]\r\n"
     ]
    }
   ],
   "source": [
    "!gdown --id 105A0KCAXDV69rlsy_WcB-xFb0qC0_nGr"
   ]
  },
  {
   "cell_type": "code",
   "execution_count": 6,
   "id": "25324fa8",
   "metadata": {
    "execution": {
     "iopub.execute_input": "2023-05-09T13:42:48.388278Z",
     "iopub.status.busy": "2023-05-09T13:42:48.387798Z",
     "iopub.status.idle": "2023-05-09T13:43:16.812862Z",
     "shell.execute_reply": "2023-05-09T13:43:16.811689Z"
    },
    "papermill": {
     "duration": 28.587935,
     "end_time": "2023-05-09T13:43:16.815308",
     "exception": false,
     "start_time": "2023-05-09T13:42:48.227373",
     "status": "completed"
    },
    "tags": []
   },
   "outputs": [
    {
     "name": "stdout",
     "output_type": "stream",
     "text": [
      "/opt/conda/lib/python3.7/site-packages/gdown/cli.py:130: FutureWarning: Option `--id` was deprecated in version 4.3.1 and will be removed in 5.0. You don't need to pass it anymore to use a file ID.\r\n",
      "  category=FutureWarning,\r\n",
      "Downloading...\r\n",
      "From (uriginal): https://drive.google.com/uc?id=105fpIsGSsnwKuiAHZp_gyjGdVwG0FlFD\r\n",
      "From (redirected): https://drive.google.com/uc?id=105fpIsGSsnwKuiAHZp_gyjGdVwG0FlFD&confirm=t&uuid=c07a86f0-4d35-461e-b547-f96b51417df6\r\n",
      "To: /kaggle/working/test_set.zip\r\n",
      "100%|███████████████████████████████████████| 3.44G/3.44G [00:26<00:00, 132MB/s]\r\n"
     ]
    }
   ],
   "source": [
    "!gdown --id 105fpIsGSsnwKuiAHZp_gyjGdVwG0FlFD"
   ]
  },
  {
   "cell_type": "code",
   "execution_count": 7,
   "id": "d007d2ed",
   "metadata": {
    "execution": {
     "iopub.execute_input": "2023-05-09T13:43:17.106028Z",
     "iopub.status.busy": "2023-05-09T13:43:17.104785Z",
     "iopub.status.idle": "2023-05-09T13:43:53.882931Z",
     "shell.execute_reply": "2023-05-09T13:43:53.881775Z"
    },
    "id": "S368LkV99AWy",
    "papermill": {
     "duration": 36.952674,
     "end_time": "2023-05-09T13:43:53.885624",
     "exception": false,
     "start_time": "2023-05-09T13:43:16.932950",
     "status": "completed"
    },
    "tags": []
   },
   "outputs": [],
   "source": [
    "from zipfile import ZipFile\n",
    "  \n",
    "# loading the temp.zip and creating a zip object\n",
    "with ZipFile(\"/kaggle/working/train_set.zip\", 'r') as zObject:\n",
    "  \n",
    "    # Extracting all the members of the zip \n",
    "    # into a specific location.\n",
    "    zObject.extractall(\n",
    "        path=\"/kaggle/working/\")\n",
    "    "
   ]
  },
  {
   "cell_type": "markdown",
   "id": "fd32c9e1",
   "metadata": {
    "id": "6H6elp7XELnh",
    "papermill": {
     "duration": 0.122614,
     "end_time": "2023-05-09T13:43:57.078610",
     "exception": false,
     "start_time": "2023-05-09T13:43:56.955996",
     "status": "completed"
    },
    "tags": []
   },
   "source": [
    "## Training the model"
   ]
  },
  {
   "cell_type": "code",
   "execution_count": 8,
   "id": "b037a06b",
   "metadata": {
    "execution": {
     "iopub.execute_input": "2023-05-09T13:43:57.307209Z",
     "iopub.status.busy": "2023-05-09T13:43:57.306858Z",
     "iopub.status.idle": "2023-05-09T13:43:57.317090Z",
     "shell.execute_reply": "2023-05-09T13:43:57.316101Z"
    },
    "id": "fXkBYHos9AWx",
    "papermill": {
     "duration": 0.126007,
     "end_time": "2023-05-09T13:43:57.319143",
     "exception": false,
     "start_time": "2023-05-09T13:43:57.193136",
     "status": "completed"
    },
    "tags": []
   },
   "outputs": [],
   "source": [
    "import tensorflow as tf\n",
    "from tensorflow import keras\n",
    "import numpy as np\n",
    "from tensorflow.keras.callbacks import EarlyStopping\n",
    "from PIL import Image\n",
    "from tensorflow.keras.preprocessing.image import ImageDataGenerator\n",
    "import os\n",
    "from tensorflow.keras import models\n",
    "from tensorflow.keras.preprocessing import image\n",
    "from tensorflow.keras.applications.mobilenet_v2 import MobileNetV2, preprocess_input\n",
    "from tensorflow.keras.layers import Dense, Flatten, Dropout, GlobalAveragePooling2D\n",
    "from tensorflow.keras.optimizers import Adam\n",
    "from tensorflow.keras.metrics import categorical_crossentropy\n",
    "import random\n",
    "import matplotlib.pyplot as plt\n",
    "%matplotlib inline\n",
    "np.random.seed(42)"
   ]
  },
  {
   "cell_type": "code",
   "execution_count": 9,
   "id": "233d0051",
   "metadata": {
    "execution": {
     "iopub.execute_input": "2023-05-09T13:43:57.548732Z",
     "iopub.status.busy": "2023-05-09T13:43:57.548349Z",
     "iopub.status.idle": "2023-05-09T13:43:57.764119Z",
     "shell.execute_reply": "2023-05-09T13:43:57.762898Z"
    },
    "id": "cbUzGMjz9AWz",
    "outputId": "281bc2d5-d3e4-4a92-f9d5-33b605830312",
    "papermill": {
     "duration": 0.333678,
     "end_time": "2023-05-09T13:43:57.766385",
     "exception": false,
     "start_time": "2023-05-09T13:43:57.432707",
     "status": "completed"
    },
    "tags": []
   },
   "outputs": [
    {
     "name": "stdout",
     "output_type": "stream",
     "text": [
      "Found 1144 images belonging to 6 classes.\n",
      "Found 326 images belonging to 6 classes.\n"
     ]
    }
   ],
   "source": [
    "im_shape = (224,224)\n",
    "\n",
    "TRAINING_DIR = '/kaggle/working/train_set'\n",
    "\n",
    "seed = 10\n",
    "num_classes  = 6\n",
    "BATCH_SIZE = 16\n",
    "\n",
    "data_generator = ImageDataGenerator(\n",
    "        rescale=1./255,\n",
    "        validation_split=0.3,\n",
    "        rotation_range=20,\n",
    "        width_shift_range=0.2,\n",
    "        height_shift_range=0.2,\n",
    "        preprocessing_function=preprocess_input,\n",
    "        shear_range=0.4,\n",
    "        zoom_range=0.2,\n",
    "        horizontal_flip=True,\n",
    "        fill_mode='nearest')\n",
    "val_data_generator = ImageDataGenerator(preprocessing_function=preprocess_input,validation_split=0.2)\n",
    "\n",
    "train_generator = data_generator.flow_from_directory(TRAINING_DIR, target_size=im_shape, shuffle=True, seed=seed,\n",
    "                                                     class_mode='categorical', batch_size=BATCH_SIZE, subset=\"training\")\n",
    "\n",
    "validation_generator = val_data_generator.flow_from_directory(TRAINING_DIR, target_size=im_shape, shuffle=False, seed=seed,\n",
    "                                                     class_mode='categorical', batch_size=BATCH_SIZE, subset=\"validation\")\n"
   ]
  },
  {
   "cell_type": "code",
   "execution_count": 10,
   "id": "b9230559",
   "metadata": {
    "execution": {
     "iopub.execute_input": "2023-05-09T13:43:57.995991Z",
     "iopub.status.busy": "2023-05-09T13:43:57.995621Z",
     "iopub.status.idle": "2023-05-09T13:44:00.517118Z",
     "shell.execute_reply": "2023-05-09T13:44:00.516110Z"
    },
    "id": "r90Vt_AS_GV7",
    "papermill": {
     "duration": 2.63925,
     "end_time": "2023-05-09T13:44:00.519565",
     "exception": false,
     "start_time": "2023-05-09T13:43:57.880315",
     "status": "completed"
    },
    "tags": []
   },
   "outputs": [
    {
     "name": "stdout",
     "output_type": "stream",
     "text": [
      "Downloading data from https://storage.googleapis.com/tensorflow/keras-applications/mobilenet_v2/mobilenet_v2_weights_tf_dim_ordering_tf_kernels_1.0_224_no_top.h5\n",
      "9412608/9406464 [==============================] - 0s 0us/step\n"
     ]
    }
   ],
   "source": [
    "base_model=MobileNetV2(weights='imagenet',include_top=False, pooling='avg', input_shape=(im_shape[0], im_shape[1], 3)) \n",
    "base_model.trainable = False #Freeze Model\n",
    "\n",
    "model = models.Sequential()\n",
    "model.add(base_model)\n",
    "model.add(Flatten())\n",
    "model.add(Dense(512,activation='relu'))\n",
    "model.add(Dropout(0.5))  \n",
    "model.add(Dense(6,activation='softmax', kernel_initializer='random_uniform'))\n",
    "\n",
    "# x=base_model.output\n",
    "# x=GlobalAveragePooling2D()(x)\n",
    "# x=Dense(1024,activation='relu')(x) \n",
    "# x=Dense(1024,activation='relu')(x)\n",
    "# x=Dense(512,activation='relu')(x)\n",
    "# preds=Dense(6,activation='softmax', kernel_initializer='random_uniform')(x)\n",
    "    \n",
    "optimizer = Adam(lr=1e-5, decay=1e-6)\n",
    "model.compile(optimizer=optimizer, loss='categorical_crossentropy', metrics=['accuracy'])               \n"
   ]
  },
  {
   "cell_type": "code",
   "execution_count": 11,
   "id": "d2870eb0",
   "metadata": {
    "execution": {
     "iopub.execute_input": "2023-05-09T13:44:00.747745Z",
     "iopub.status.busy": "2023-05-09T13:44:00.746730Z",
     "iopub.status.idle": "2023-05-09T13:44:00.756051Z",
     "shell.execute_reply": "2023-05-09T13:44:00.754983Z"
    },
    "id": "S1KHCxlV9AW1",
    "outputId": "92ebb1af-88bf-45a7-df48-38b77ee13f09",
    "papermill": {
     "duration": 0.125669,
     "end_time": "2023-05-09T13:44:00.758954",
     "exception": false,
     "start_time": "2023-05-09T13:44:00.633285",
     "status": "completed"
    },
    "tags": []
   },
   "outputs": [
    {
     "data": {
      "text/plain": [
       "\"\\nbase_model = InceptionResNetV2(weights='imagenet', include_top=False, input_shape=(im_shape[0], im_shape[1], 3))\\nx = base_model.output\\nx = Flatten()(x)\\nx = Dense(400, activation='relu')(x)\\nx = Dropout(0.3)(x)\\npredictions = Dense(num_classes, activation='softmax', kernel_initializer='random_uniform')(x)\\n\\nmodel = Model(inputs=base_model.input, outputs=predictions)\\n\\n# Freezing pretrained layers\\nfor layer in base_model.layers:\\n    layer.trainable=False\\n    \\noptimizer = Adam()\\nmodel.compile(optimizer = optimizer, loss='categorical_crossentropy',metrics=['accuracy'])\\n\""
      ]
     },
     "execution_count": 11,
     "metadata": {},
     "output_type": "execute_result"
    }
   ],
   "source": [
    "\"\"\"\n",
    "base_model = InceptionResNetV2(weights='imagenet', include_top=False, input_shape=(im_shape[0], im_shape[1], 3))\n",
    "x = base_model.output\n",
    "x = Flatten()(x)\n",
    "x = Dense(400, activation='relu')(x)\n",
    "x = Dropout(0.3)(x)\n",
    "predictions = Dense(num_classes, activation='softmax', kernel_initializer='random_uniform')(x)\n",
    "\n",
    "model = Model(inputs=base_model.input, outputs=predictions)\n",
    "\n",
    "# Freezing pretrained layers\n",
    "for layer in base_model.layers:\n",
    "    layer.trainable=False\n",
    "    \n",
    "optimizer = Adam()\n",
    "model.compile(optimizer = optimizer, loss='categorical_crossentropy',metrics=['accuracy'])\n",
    "\"\"\""
   ]
  },
  {
   "cell_type": "code",
   "execution_count": 12,
   "id": "c90d3c27",
   "metadata": {
    "execution": {
     "iopub.execute_input": "2023-05-09T13:44:00.990808Z",
     "iopub.status.busy": "2023-05-09T13:44:00.990406Z",
     "iopub.status.idle": "2023-05-09T14:30:40.745462Z",
     "shell.execute_reply": "2023-05-09T14:30:40.744500Z"
    },
    "id": "6mwy-K3W9AW7",
    "outputId": "00c6fc78-7acf-4df1-f135-1bc694bb5ec4",
    "papermill": {
     "duration": 2800.028946,
     "end_time": "2023-05-09T14:30:40.901582",
     "exception": false,
     "start_time": "2023-05-09T13:44:00.872636",
     "status": "completed"
    },
    "tags": []
   },
   "outputs": [
    {
     "name": "stdout",
     "output_type": "stream",
     "text": [
      "Epoch 1/10\n",
      "72/72 [==============================] - ETA: 0s - loss: 1.8184 - accuracy: 0.1862\n",
      "Epoch 00001: val_loss improved from inf to 1.79974, saving model to /kaggle/working/model.h5\n",
      "72/72 [==============================] - 287s 4s/step - loss: 1.8184 - accuracy: 0.1862 - val_loss: 1.7997 - val_accuracy: 0.1902\n",
      "Epoch 2/10\n",
      "72/72 [==============================] - ETA: 0s - loss: 1.8041 - accuracy: 0.1949\n",
      "Epoch 00002: val_loss improved from 1.79974 to 1.79606, saving model to /kaggle/working/model.h5\n",
      "72/72 [==============================] - 276s 4s/step - loss: 1.8041 - accuracy: 0.1949 - val_loss: 1.7961 - val_accuracy: 0.1840\n",
      "Epoch 3/10\n",
      "72/72 [==============================] - ETA: 0s - loss: 1.7956 - accuracy: 0.2089\n",
      "Epoch 00003: val_loss improved from 1.79606 to 1.79442, saving model to /kaggle/working/model.h5\n",
      "72/72 [==============================] - 276s 4s/step - loss: 1.7956 - accuracy: 0.2089 - val_loss: 1.7944 - val_accuracy: 0.1902\n",
      "Epoch 4/10\n",
      "72/72 [==============================] - ETA: 0s - loss: 1.8040 - accuracy: 0.1888\n",
      "Epoch 00004: val_loss improved from 1.79442 to 1.79297, saving model to /kaggle/working/model.h5\n",
      "72/72 [==============================] - 276s 4s/step - loss: 1.8040 - accuracy: 0.1888 - val_loss: 1.7930 - val_accuracy: 0.1933\n",
      "Epoch 5/10\n",
      "72/72 [==============================] - ETA: 0s - loss: 1.7959 - accuracy: 0.1844\n",
      "Epoch 00005: val_loss did not improve from 1.79297\n",
      "72/72 [==============================] - 274s 4s/step - loss: 1.7959 - accuracy: 0.1844 - val_loss: 1.7947 - val_accuracy: 0.1933\n",
      "Epoch 6/10\n",
      "72/72 [==============================] - ETA: 0s - loss: 1.7766 - accuracy: 0.1932\n",
      "Epoch 00006: val_loss improved from 1.79297 to 1.79234, saving model to /kaggle/working/model.h5\n",
      "72/72 [==============================] - 273s 4s/step - loss: 1.7766 - accuracy: 0.1932 - val_loss: 1.7923 - val_accuracy: 0.1902\n",
      "Epoch 7/10\n",
      "72/72 [==============================] - ETA: 0s - loss: 1.7785 - accuracy: 0.1976\n",
      "Epoch 00007: val_loss did not improve from 1.79234\n",
      "72/72 [==============================] - 273s 4s/step - loss: 1.7785 - accuracy: 0.1976 - val_loss: 1.7945 - val_accuracy: 0.1933\n",
      "Epoch 8/10\n",
      "72/72 [==============================] - ETA: 0s - loss: 1.7899 - accuracy: 0.1932\n",
      "Epoch 00008: val_loss did not improve from 1.79234\n",
      "72/72 [==============================] - 275s 4s/step - loss: 1.7899 - accuracy: 0.1932 - val_loss: 1.7945 - val_accuracy: 0.1902\n",
      "Epoch 9/10\n",
      "72/72 [==============================] - ETA: 0s - loss: 1.7752 - accuracy: 0.2045\n",
      "Epoch 00009: val_loss did not improve from 1.79234\n",
      "72/72 [==============================] - 275s 4s/step - loss: 1.7752 - accuracy: 0.2045 - val_loss: 1.7944 - val_accuracy: 0.1902\n",
      "Epoch 10/10\n",
      "72/72 [==============================] - ETA: 0s - loss: 1.7770 - accuracy: 0.2212\n",
      "Epoch 00010: val_loss did not improve from 1.79234\n",
      "72/72 [==============================] - 274s 4s/step - loss: 1.7770 - accuracy: 0.2212 - val_loss: 1.7948 - val_accuracy: 0.1902\n",
      "Epoch 00010: early stopping\n"
     ]
    }
   ],
   "source": [
    "epochs = 10\n",
    "\n",
    "# Saving the best model\n",
    "callbacks_list = [\n",
    "    keras.callbacks.ModelCheckpoint(\n",
    "        filepath='/kaggle/working/model.h5',\n",
    "        monitor='val_loss', save_best_only=True, verbose=1),\n",
    "    keras.callbacks.EarlyStopping(monitor='val_loss', patience=4,verbose=1)\n",
    "]\n",
    "\n",
    "history = model.fit(\n",
    "        train_generator,\n",
    "        epochs=epochs,\n",
    "        callbacks = callbacks_list,\n",
    "        validation_data=validation_generator,\n",
    "        verbose = 1)"
   ]
  },
  {
   "cell_type": "code",
   "execution_count": 13,
   "id": "06be4961",
   "metadata": {
    "execution": {
     "iopub.execute_input": "2023-05-09T14:30:41.208734Z",
     "iopub.status.busy": "2023-05-09T14:30:41.207632Z",
     "iopub.status.idle": "2023-05-09T14:31:09.163671Z",
     "shell.execute_reply": "2023-05-09T14:31:09.162600Z"
    },
    "papermill": {
     "duration": 28.112824,
     "end_time": "2023-05-09T14:31:09.166599",
     "exception": false,
     "start_time": "2023-05-09T14:30:41.053775",
     "status": "completed"
    },
    "tags": []
   },
   "outputs": [],
   "source": [
    "from zipfile import ZipFile\n",
    "  \n",
    "# loading the temp.zip and creating a zip object\n",
    "with ZipFile(\"/kaggle/working/test_set.zip\", 'r') as zObject:\n",
    "  \n",
    "    # Extracting all the members of the zip \n",
    "    # into a specific location.\n",
    "    zObject.extractall(\n",
    "        path=\"/kaggle/working/\")\n",
    "    "
   ]
  },
  {
   "cell_type": "code",
   "execution_count": 14,
   "id": "1c5e9bb7",
   "metadata": {
    "execution": {
     "iopub.execute_input": "2023-05-09T14:31:09.478881Z",
     "iopub.status.busy": "2023-05-09T14:31:09.478471Z",
     "iopub.status.idle": "2023-05-09T14:34:12.480349Z",
     "shell.execute_reply": "2023-05-09T14:34:12.479432Z"
    },
    "id": "DklAgwI09AW9",
    "outputId": "912249b8-3427-4214-8e89-41c900d0d13d",
    "papermill": {
     "duration": 183.159168,
     "end_time": "2023-05-09T14:34:12.483020",
     "exception": false,
     "start_time": "2023-05-09T14:31:09.323852",
     "status": "completed"
    },
    "tags": []
   },
   "outputs": [
    {
     "name": "stdout",
     "output_type": "stream",
     "text": [
      "Found 800 images belonging to 6 classes.\n",
      "50/50 [==============================] - 175s 4s/step - loss: 1.7614 - accuracy: 0.2163\n"
     ]
    },
    {
     "data": {
      "text/plain": [
       "[1.7614219188690186, 0.2162500023841858]"
      ]
     },
     "execution_count": 14,
     "metadata": {},
     "output_type": "execute_result"
    }
   ],
   "source": [
    "#test the model performance on test set\n",
    "test_gen = ImageDataGenerator(preprocessing_function=preprocess_input)\n",
    "test_ds = test_gen.flow_from_directory(\"/kaggle/working/test_set\", shuffle=False, target_size=(224,224), batch_size=16)\n",
    "\n",
    "model = keras.models.load_model('/kaggle/working/model.h5')\n",
    "model.evaluate(test_ds)"
   ]
  },
  {
   "cell_type": "code",
   "execution_count": 15,
   "id": "bb78543a",
   "metadata": {
    "execution": {
     "iopub.execute_input": "2023-05-09T14:34:12.931794Z",
     "iopub.status.busy": "2023-05-09T14:34:12.931408Z",
     "iopub.status.idle": "2023-05-09T14:34:12.947889Z",
     "shell.execute_reply": "2023-05-09T14:34:12.946830Z"
    },
    "id": "kIFodYcVPAD6",
    "outputId": "ecb93abe-5421-4d03-891c-bc702e6ca1bf",
    "papermill": {
     "duration": 0.227756,
     "end_time": "2023-05-09T14:34:12.950497",
     "exception": false,
     "start_time": "2023-05-09T14:34:12.722741",
     "status": "completed"
    },
    "tags": []
   },
   "outputs": [
    {
     "name": "stdout",
     "output_type": "stream",
     "text": [
      "Model: \"sequential\"\n",
      "_________________________________________________________________\n",
      "Layer (type)                 Output Shape              Param #   \n",
      "=================================================================\n",
      "mobilenetv2_1.00_224 (Functi (None, 1280)              2257984   \n",
      "_________________________________________________________________\n",
      "flatten (Flatten)            (None, 1280)              0         \n",
      "_________________________________________________________________\n",
      "dense (Dense)                (None, 512)               655872    \n",
      "_________________________________________________________________\n",
      "dropout (Dropout)            (None, 512)               0         \n",
      "_________________________________________________________________\n",
      "dense_1 (Dense)              (None, 6)                 3078      \n",
      "=================================================================\n",
      "Total params: 2,916,934\n",
      "Trainable params: 658,950\n",
      "Non-trainable params: 2,257,984\n",
      "_________________________________________________________________\n"
     ]
    }
   ],
   "source": [
    "model.summary()"
   ]
  },
  {
   "cell_type": "code",
   "execution_count": 16,
   "id": "4302cdc8",
   "metadata": {
    "execution": {
     "iopub.execute_input": "2023-05-09T14:34:13.268197Z",
     "iopub.status.busy": "2023-05-09T14:34:13.267238Z",
     "iopub.status.idle": "2023-05-09T14:34:45.821079Z",
     "shell.execute_reply": "2023-05-09T14:34:45.820032Z"
    },
    "papermill": {
     "duration": 32.719296,
     "end_time": "2023-05-09T14:34:45.823790",
     "exception": false,
     "start_time": "2023-05-09T14:34:13.104494",
     "status": "completed"
    },
    "tags": []
   },
   "outputs": [],
   "source": [
    "saved_model_dir = '/kaggle/working' #means current directory\n",
    "\n",
    "tf.saved_model.save(model, saved_model_dir) #saves to the current directory\n",
    "\n",
    "converter = tf.lite.TFLiteConverter.from_saved_model(saved_model_dir) \n",
    "tflite_model = converter.convert() #converts our model into a .tflite model which flutter uses for ondevice machine learning\n",
    "\n",
    "with open('model_1.tflite', 'wb') as f: #to write the converted model into a file, written as binary so add 'wb' instead of 'w'\n",
    "  f.write(tflite_model)"
   ]
  },
  {
   "cell_type": "code",
   "execution_count": 17,
   "id": "adfce233",
   "metadata": {
    "execution": {
     "iopub.execute_input": "2023-05-09T14:34:46.134446Z",
     "iopub.status.busy": "2023-05-09T14:34:46.133871Z",
     "iopub.status.idle": "2023-05-09T14:35:12.117747Z",
     "shell.execute_reply": "2023-05-09T14:35:12.116696Z"
    },
    "papermill": {
     "duration": 26.143996,
     "end_time": "2023-05-09T14:35:12.120359",
     "exception": false,
     "start_time": "2023-05-09T14:34:45.976363",
     "status": "completed"
    },
    "tags": []
   },
   "outputs": [],
   "source": [
    "converter = tf.lite.TFLiteConverter.from_keras_model(model)\n",
    "converter.target_spec.supported_ops = [\n",
    "                tf.lite.OpsSet.TFLITE_BUILTINS,  # enable TensorFlow Lite ops.\n",
    "                tf.lite.OpsSet.SELECT_TF_OPS  # enable TensorFlow ops.\n",
    "            ]\n",
    "tflmodel = converter.convert() \n",
    "fil = open(\"/kaggle/working/model_2.tflite\",'wb')\n",
    "fil.write(tflmodel)\n",
    "fil.close()"
   ]
  },
  {
   "cell_type": "markdown",
   "id": "14ef7206",
   "metadata": {
    "papermill": {
     "duration": 0.157036,
     "end_time": "2023-05-09T14:35:12.435883",
     "exception": false,
     "start_time": "2023-05-09T14:35:12.278847",
     "status": "completed"
    },
    "tags": []
   },
   "source": [
    "## Single Prediction"
   ]
  },
  {
   "cell_type": "code",
   "execution_count": 18,
   "id": "cb1c9231",
   "metadata": {
    "execution": {
     "iopub.execute_input": "2023-05-09T14:35:12.795917Z",
     "iopub.status.busy": "2023-05-09T14:35:12.795518Z",
     "iopub.status.idle": "2023-05-09T14:35:12.803485Z",
     "shell.execute_reply": "2023-05-09T14:35:12.802506Z"
    },
    "papermill": {
     "duration": 0.166847,
     "end_time": "2023-05-09T14:35:12.806046",
     "exception": false,
     "start_time": "2023-05-09T14:35:12.639199",
     "status": "completed"
    },
    "tags": []
   },
   "outputs": [
    {
     "data": {
      "text/plain": [
       "'\\nimport numpy as np\\nimport tensorflow as tf\\nfrom tensorflow import keras\\nfrom tensorflow.keras.preprocessing import image\\nfrom tensorflow.keras.applications.mobilenet_v2 import preprocess_input\\n\\nlabels = {0:\\'ripe banana\\', 1: \\'ripe orange\\', 2: \\'ripe tomato\\', \\n          3: \\'unripe banana\\', 4: \\'unripe orange\\', 5: \\'unripe tomato\\' }\\n\\ndef predict(file_loc):\\n  # Load TFLite model and allocate tensors.\\n  interpreter = tf.lite.Interpreter(model_path=\"/kaggle/working/model_1.tflite\")\\n  interpreter.allocate_tensors()\\n\\n  # Get input and output tensors.\\n  input_details = interpreter.get_input_details()\\n  output_details = interpreter.get_output_details()\\n\\n  img = image.load_img(file_loc, target_size=(224,224))\\n\\n  img_tensor = image.img_to_array(img)\\n  img_tensor = np.expand_dims(img_tensor, axis=0)\\n  img_tensor /= 255.   \\n\\n  interpreter.set_tensor(input_details[0][\\'index\\'], img_tensor)\\n\\n  interpreter.invoke()\\n\\n  # The function `get_tensor()` returns a copy of the tensor data.\\n  # Use `tensor()` in order to get a pointer to the tensor.\\n  output_data = interpreter.get_tensor(output_details[0][\\'index\\'])\\n  pred = np.argmax(output_data)\\n\\n  if output_data[0][pred] > 0.8:\\n    label = labels[pred]\\n  else:\\n    label = \"Can\\'t Recognize Image, Please place well\"\\n\\n  return label\\n'"
      ]
     },
     "execution_count": 18,
     "metadata": {},
     "output_type": "execute_result"
    }
   ],
   "source": [
    "'''\n",
    "import numpy as np\n",
    "import tensorflow as tf\n",
    "from tensorflow import keras\n",
    "from tensorflow.keras.preprocessing import image\n",
    "from tensorflow.keras.applications.mobilenet_v2 import preprocess_input\n",
    "\n",
    "labels = {0:'ripe banana', 1: 'ripe orange', 2: 'ripe tomato', \n",
    "          3: 'unripe banana', 4: 'unripe orange', 5: 'unripe tomato' }\n",
    "\n",
    "def predict(file_loc):\n",
    "  # Load TFLite model and allocate tensors.\n",
    "  interpreter = tf.lite.Interpreter(model_path=\"/kaggle/working/model_1.tflite\")\n",
    "  interpreter.allocate_tensors()\n",
    "\n",
    "  # Get input and output tensors.\n",
    "  input_details = interpreter.get_input_details()\n",
    "  output_details = interpreter.get_output_details()\n",
    "\n",
    "  img = image.load_img(file_loc, target_size=(224,224))\n",
    "\n",
    "  img_tensor = image.img_to_array(img)\n",
    "  img_tensor = np.expand_dims(img_tensor, axis=0)\n",
    "  img_tensor /= 255.   \n",
    "\n",
    "  interpreter.set_tensor(input_details[0]['index'], img_tensor)\n",
    "\n",
    "  interpreter.invoke()\n",
    "\n",
    "  # The function `get_tensor()` returns a copy of the tensor data.\n",
    "  # Use `tensor()` in order to get a pointer to the tensor.\n",
    "  output_data = interpreter.get_tensor(output_details[0]['index'])\n",
    "  pred = np.argmax(output_data)\n",
    "\n",
    "  if output_data[0][pred] > 0.8:\n",
    "    label = labels[pred]\n",
    "  else:\n",
    "    label = \"Can't Recognize Image, Please place well\"\n",
    "\n",
    "  return label\n",
    "'''"
   ]
  },
  {
   "cell_type": "code",
   "execution_count": 19,
   "id": "9efcfe55",
   "metadata": {
    "execution": {
     "iopub.execute_input": "2023-05-09T14:35:13.121710Z",
     "iopub.status.busy": "2023-05-09T14:35:13.121339Z",
     "iopub.status.idle": "2023-05-09T14:35:13.127425Z",
     "shell.execute_reply": "2023-05-09T14:35:13.126481Z"
    },
    "papermill": {
     "duration": 0.168762,
     "end_time": "2023-05-09T14:35:13.129544",
     "exception": false,
     "start_time": "2023-05-09T14:35:12.960782",
     "status": "completed"
    },
    "tags": []
   },
   "outputs": [
    {
     "data": {
      "text/plain": [
       "\"\\nfile_loc = input('Enter image Location: ')\\nprediction = predict(file_loc)\\nprint('Fruit Classification: ' + prediction)\\n\""
      ]
     },
     "execution_count": 19,
     "metadata": {},
     "output_type": "execute_result"
    }
   ],
   "source": [
    "'''\n",
    "file_loc = input('Enter image Location: ')\n",
    "prediction = predict(file_loc)\n",
    "print('Fruit Classification: ' + prediction)\n",
    "'''"
   ]
  },
  {
   "cell_type": "code",
   "execution_count": 20,
   "id": "f96514e2",
   "metadata": {
    "execution": {
     "iopub.execute_input": "2023-05-09T14:35:13.455106Z",
     "iopub.status.busy": "2023-05-09T14:35:13.453736Z",
     "iopub.status.idle": "2023-05-09T14:35:13.462119Z",
     "shell.execute_reply": "2023-05-09T14:35:13.460930Z"
    },
    "papermill": {
     "duration": 0.180414,
     "end_time": "2023-05-09T14:35:13.464625",
     "exception": false,
     "start_time": "2023-05-09T14:35:13.284211",
     "status": "completed"
    },
    "tags": []
   },
   "outputs": [
    {
     "data": {
      "text/plain": [
       "\"import os\\nbase_loc = '/kaggle/working/test_set/unripe orange/'\\nimage_lst = os.listdir(base_loc)\\nfor imag in image_lst:\\n  predict(base_loc  + imag)\""
      ]
     },
     "execution_count": 20,
     "metadata": {},
     "output_type": "execute_result"
    }
   ],
   "source": [
    "'''import os\n",
    "base_loc = '/kaggle/working/test_set/unripe orange/'\n",
    "image_lst = os.listdir(base_loc)\n",
    "for imag in image_lst:\n",
    "  predict(base_loc  + imag)'''"
   ]
  }
 ],
 "metadata": {
  "kernelspec": {
   "display_name": "Python 3",
   "language": "python",
   "name": "python3"
  },
  "language_info": {
   "codemirror_mode": {
    "name": "ipython",
    "version": 3
   },
   "file_extension": ".py",
   "mimetype": "text/x-python",
   "name": "python",
   "nbconvert_exporter": "python",
   "pygments_lexer": "ipython3",
   "version": "3.7.12"
  },
  "papermill": {
   "default_parameters": {},
   "duration": 3519.291452,
   "end_time": "2023-05-09T14:35:16.808652",
   "environment_variables": {},
   "exception": null,
   "input_path": "__notebook__.ipynb",
   "output_path": "__notebook__.ipynb",
   "parameters": {},
   "start_time": "2023-05-09T13:36:37.517200",
   "version": "2.3.4"
  }
 },
 "nbformat": 4,
 "nbformat_minor": 5
}
